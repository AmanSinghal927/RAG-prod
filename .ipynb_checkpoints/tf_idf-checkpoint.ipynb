{
 "cells": [
  {
   "cell_type": "code",
   "execution_count": 1,
   "id": "60ecc7f9-ca3f-46e8-8add-8e0f11384bfd",
   "metadata": {},
   "outputs": [
    {
     "name": "stderr",
     "output_type": "stream",
     "text": [
      "C:\\Users\\J C SINGLA\\miniconda3\\Lib\\site-packages\\fuzzywuzzy\\fuzz.py:11: UserWarning: Using slow pure-python SequenceMatcher. Install python-Levenshtein to remove this warning\n",
      "  warnings.warn('Using slow pure-python SequenceMatcher. Install python-Levenshtein to remove this warning')\n"
     ]
    }
   ],
   "source": [
    "import pandas as pd\n",
    "import json \n",
    "import glob\n",
    "import faiss\n",
    "from fuzzywuzzy import fuzz\n",
    "from llmsherpa.readers import LayoutPDFReader\n",
    "import matplotlib.pyplot as plt\n",
    "import numpy as np\n",
    "import os\n",
    "import datetime\n",
    "import torch\n",
    "from sklearn.feature_extraction.text import TfidfVectorizer\n",
    "from sklearn.feature_selection import VarianceThreshold\n",
    "import faiss"
   ]
  },
  {
   "cell_type": "code",
   "execution_count": 3,
   "id": "4e995938-23c3-4fd6-9de4-71b4d2473055",
   "metadata": {},
   "outputs": [],
   "source": [
    "from src.rechunker import Rechunker\n",
    "from src.encoder.tf_idf import Encoder\n",
    "from src.faiss.flat_idx import flatIdx\n",
    "from utils.utils import flatten_list, write_list_to_file, read_list_from_file\n",
    "from src.eval import Eval\n",
    "from src.post_processing import idk"
   ]
  },
  {
   "cell_type": "code",
   "execution_count": 4,
   "id": "f8b16390-28d4-4453-ac21-975e09927379",
   "metadata": {},
   "outputs": [
    {
     "name": "stderr",
     "output_type": "stream",
     "text": [
      "[nltk_data] Downloading package punkt to C:\\Users\\J C\n",
      "[nltk_data]     SINGLA\\AppData\\Roaming\\nltk_data...\n",
      "[nltk_data]   Package punkt is already up-to-date!\n",
      "[nltk_data] Downloading package wordnet to C:\\Users\\J C\n",
      "[nltk_data]     SINGLA\\AppData\\Roaming\\nltk_data...\n",
      "[nltk_data]   Package wordnet is already up-to-date!\n",
      "[nltk_data] Downloading package stopwords to C:\\Users\\J C\n",
      "[nltk_data]     SINGLA\\AppData\\Roaming\\nltk_data...\n",
      "[nltk_data]   Package stopwords is already up-to-date!\n"
     ]
    },
    {
     "data": {
      "text/plain": [
       "True"
      ]
     },
     "execution_count": 4,
     "metadata": {},
     "output_type": "execute_result"
    }
   ],
   "source": [
    "import nltk\n",
    "from nltk.stem import PorterStemmer, WordNetLemmatizer\n",
    "from nltk.corpus import stopwords\n",
    "import string\n",
    "\n",
    "nltk.download('punkt')\n",
    "nltk.download('wordnet')\n",
    "nltk.download('stopwords')"
   ]
  },
  {
   "cell_type": "markdown",
   "id": "ad0c2c46-55da-4968-bbff-f1dcb8883fc6",
   "metadata": {},
   "source": [
    "## Data"
   ]
  },
  {
   "cell_type": "code",
   "execution_count": 13,
   "id": "599ba573-541e-4cb9-86c6-7a2d9d0477b3",
   "metadata": {},
   "outputs": [],
   "source": [
    "save_path = r\"C:\\Users\\J C SINGLA\\Downloads\\External - take_home_challenge_(withJSONs)\\take_home_challenge_(withJSONs)\\data\\processed\""
   ]
  },
  {
   "cell_type": "code",
   "execution_count": 14,
   "id": "1ff6e18a-bbc4-4c4f-9515-739b793549a7",
   "metadata": {},
   "outputs": [],
   "source": [
    "all_data_sherpa = read_list_from_file(save_path, \"sherpa_paras_and_tables\")\n",
    "filenames_sherpa = read_list_from_file(save_path, \"sherpa_paras_and_tables_filenames\")\n",
    "assert (len(all_data_sherpa)==len(filenames_sherpa))"
   ]
  },
  {
   "cell_type": "code",
   "execution_count": 15,
   "id": "3e2c34af-dde7-4b8f-98b8-1818bb041308",
   "metadata": {},
   "outputs": [],
   "source": [
    "ground_truth_path = r\"C:\\Users\\J C SINGLA\\Downloads\\External - take_home_challenge_(withJSONs)\\take_home_challenge_(withJSONs)\\document_questions.xlsx\"\n",
    "ground_truth = pd.read_excel(ground_truth_path)\n",
    "ground_truth_text = ground_truth[ground_truth[\"complexity\"].isin([\"table\", \"text\"])].copy()\n",
    "test_data = list(ground_truth_text[\"relevant questions\"])\n",
    "test_labels = list(ground_truth_text[\"answer\"])"
   ]
  },
  {
   "cell_type": "code",
   "execution_count": 16,
   "id": "e8aec16a-1271-479f-a3fb-c7cec07c3875",
   "metadata": {
    "scrolled": true
   },
   "outputs": [
    {
     "data": {
      "text/html": [
       "<div>\n",
       "<style scoped>\n",
       "    .dataframe tbody tr th:only-of-type {\n",
       "        vertical-align: middle;\n",
       "    }\n",
       "\n",
       "    .dataframe tbody tr th {\n",
       "        vertical-align: top;\n",
       "    }\n",
       "\n",
       "    .dataframe thead th {\n",
       "        text-align: right;\n",
       "    }\n",
       "</style>\n",
       "<table border=\"1\" class=\"dataframe\">\n",
       "  <thead>\n",
       "    <tr style=\"text-align: right;\">\n",
       "      <th></th>\n",
       "      <th>document</th>\n",
       "      <th>relevant questions</th>\n",
       "      <th>answer</th>\n",
       "      <th>complexity</th>\n",
       "    </tr>\n",
       "  </thead>\n",
       "  <tbody>\n",
       "    <tr>\n",
       "      <th>0</th>\n",
       "      <td>DR--185549702_INTRO</td>\n",
       "      <td>What is meant by \"computational finance\"?</td>\n",
       "      <td>Models in the realm of agent-based computation...</td>\n",
       "      <td>no raw_text</td>\n",
       "    </tr>\n",
       "    <tr>\n",
       "      <th>1</th>\n",
       "      <td>DR--185549702_INTRO</td>\n",
       "      <td>What is meant by 'investor heterogeneity'?</td>\n",
       "      <td>Models in the realm of agent-based computation...</td>\n",
       "      <td>no raw_text</td>\n",
       "    </tr>\n",
       "    <tr>\n",
       "      <th>2</th>\n",
       "      <td>DR--185549702_INTRO</td>\n",
       "      <td>What was the revolution witnessed by finance i...</td>\n",
       "      <td>In the mid to later part of the 20th century, ...</td>\n",
       "      <td>no raw_text</td>\n",
       "    </tr>\n",
       "    <tr>\n",
       "      <th>3</th>\n",
       "      <td>DR--185549702_INTRO</td>\n",
       "      <td>Why do you think financial markets are viewed ...</td>\n",
       "      <td>NaN</td>\n",
       "      <td>no raw_text</td>\n",
       "    </tr>\n",
       "    <tr>\n",
       "      <th>4</th>\n",
       "      <td>DR--185549702_INTRO</td>\n",
       "      <td>Why are the financial markets appealing applic...</td>\n",
       "      <td>financial markets particularly appealing appli...</td>\n",
       "      <td>no raw_text</td>\n",
       "    </tr>\n",
       "    <tr>\n",
       "      <th>5</th>\n",
       "      <td>DR--185549702_INTRO</td>\n",
       "      <td>What are the different design questions in con...</td>\n",
       "      <td>Probably the most important question is the de...</td>\n",
       "      <td>no raw_text</td>\n",
       "    </tr>\n",
       "    <tr>\n",
       "      <th>6</th>\n",
       "      <td>DR--185549702_INTRO</td>\n",
       "      <td>Discuss Lettau’s framework using various mathe...</td>\n",
       "      <td>Lettau (1997) provides a good example of a com...</td>\n",
       "      <td>no raw_text</td>\n",
       "    </tr>\n",
       "    <tr>\n",
       "      <th>7</th>\n",
       "      <td>DR--185549702_INTRO</td>\n",
       "      <td>The exchange rate is given by what formula?</td>\n",
       "      <td>The exchange rate is given by et = p1,t p2,t ....</td>\n",
       "      <td>no raw_text</td>\n",
       "    </tr>\n",
       "    <tr>\n",
       "      <th>8</th>\n",
       "      <td>DR--185549702_INTRO</td>\n",
       "      <td>Discuss the criticisms of agent-based markets.</td>\n",
       "      <td>A common concern about all agent-based computa...</td>\n",
       "      <td>no raw_text</td>\n",
       "    </tr>\n",
       "    <tr>\n",
       "      <th>9</th>\n",
       "      <td>DR--185549702_INTRO</td>\n",
       "      <td>How is timing an ignored final problem?</td>\n",
       "      <td>A final problem, often ignored, is timing. Alm...</td>\n",
       "      <td>no raw_text</td>\n",
       "    </tr>\n",
       "    <tr>\n",
       "      <th>10</th>\n",
       "      <td>DR--110685614</td>\n",
       "      <td>What is the earliest that I can depart from Do...</td>\n",
       "      <td>Depart Downtown Arrive at College Depart Colle...</td>\n",
       "      <td>table</td>\n",
       "    </tr>\n",
       "    <tr>\n",
       "      <th>11</th>\n",
       "      <td>DR--110685614</td>\n",
       "      <td>Is it a departure from the College stop after ...</td>\n",
       "      <td>Depart Downtown Arrive/Depart College Arrive D...</td>\n",
       "      <td>table</td>\n",
       "    </tr>\n",
       "    <tr>\n",
       "      <th>12</th>\n",
       "      <td>DR--110685614</td>\n",
       "      <td>What are the destinations of the express bus?</td>\n",
       "      <td>Depart Downtown Arrive at College Depart Colle...</td>\n",
       "      <td>table</td>\n",
       "    </tr>\n",
       "    <tr>\n",
       "      <th>13</th>\n",
       "      <td>DR--110685614</td>\n",
       "      <td>at what time is the last opportunity someone c...</td>\n",
       "      <td>Depart Downtown Arrive at College Depart Colle...</td>\n",
       "      <td>table</td>\n",
       "    </tr>\n",
       "    <tr>\n",
       "      <th>14</th>\n",
       "      <td>DR--2256935</td>\n",
       "      <td>What was the gross profit of three months ende...</td>\n",
       "      <td>Three months ended June 30, Six months ended J...</td>\n",
       "      <td>table</td>\n",
       "    </tr>\n",
       "    <tr>\n",
       "      <th>15</th>\n",
       "      <td>DR--2256935</td>\n",
       "      <td>How much percentage difference of goods sold b...</td>\n",
       "      <td>Three months ended June 30, Six months ended J...</td>\n",
       "      <td>table</td>\n",
       "    </tr>\n",
       "    <tr>\n",
       "      <th>16</th>\n",
       "      <td>DR--2256935</td>\n",
       "      <td>In which year were there the greatest total as...</td>\n",
       "      <td>2014 2013 Assets Current assets: Cash and cash...</td>\n",
       "      <td>table</td>\n",
       "    </tr>\n",
       "    <tr>\n",
       "      <th>17</th>\n",
       "      <td>DR--2256935</td>\n",
       "      <td>In which year were there the greatest total li...</td>\n",
       "      <td>2014 2013 Assets Current assets: Cash and cash...</td>\n",
       "      <td>table</td>\n",
       "    </tr>\n",
       "    <tr>\n",
       "      <th>18</th>\n",
       "      <td>DR--182866691_INTRO</td>\n",
       "      <td>How varied were the subjects of the different ...</td>\n",
       "      <td>Date Meeting Subject Location Attendees 4-10-0...</td>\n",
       "      <td>table</td>\n",
       "    </tr>\n",
       "    <tr>\n",
       "      <th>19</th>\n",
       "      <td>DR--182866691_INTRO</td>\n",
       "      <td>What is the Oregon Section's annual Traffic Bo...</td>\n",
       "      <td>The Student Liaison Committee had another succ...</td>\n",
       "      <td>text</td>\n",
       "    </tr>\n",
       "    <tr>\n",
       "      <th>20</th>\n",
       "      <td>DR--182866691_INTRO</td>\n",
       "      <td>The participating schools of the Traffic Bowl ...</td>\n",
       "      <td>This year we had 52 students from six universi...</td>\n",
       "      <td>text</td>\n",
       "    </tr>\n",
       "    <tr>\n",
       "      <th>21</th>\n",
       "      <td>DR--182866691_INTRO</td>\n",
       "      <td>How do you think the donations from the local ...</td>\n",
       "      <td>University of Portland took home the grand pri...</td>\n",
       "      <td>text</td>\n",
       "    </tr>\n",
       "    <tr>\n",
       "      <th>22</th>\n",
       "      <td>DR--182866691_INTRO</td>\n",
       "      <td>Discuss the Oregon Section's website.</td>\n",
       "      <td>This year the Oregon Section retained the doma...</td>\n",
       "      <td>text</td>\n",
       "    </tr>\n",
       "    <tr>\n",
       "      <th>23</th>\n",
       "      <td>DR--182866691_INTRO</td>\n",
       "      <td>What do you know about the 18th annual ITE Gol...</td>\n",
       "      <td>The Oregon Section hosted its 18th annual ITE ...</td>\n",
       "      <td>text</td>\n",
       "    </tr>\n",
       "    <tr>\n",
       "      <th>24</th>\n",
       "      <td>DR--182866691_INTRO</td>\n",
       "      <td>What are the standard rules of a golf game?</td>\n",
       "      <td>NaN</td>\n",
       "      <td>text</td>\n",
       "    </tr>\n",
       "    <tr>\n",
       "      <th>25</th>\n",
       "      <td>DR--182866691_INTRO</td>\n",
       "      <td>How do you think the token gifts motivate the ...</td>\n",
       "      <td>NaN</td>\n",
       "      <td>text</td>\n",
       "    </tr>\n",
       "    <tr>\n",
       "      <th>26</th>\n",
       "      <td>DR--182866691_INTRO</td>\n",
       "      <td>How was the District 6 meeting a huge success?</td>\n",
       "      <td>The District 6 meeting was a huge success in t...</td>\n",
       "      <td>text</td>\n",
       "    </tr>\n",
       "    <tr>\n",
       "      <th>27</th>\n",
       "      <td>DR--182866691_INTRO</td>\n",
       "      <td>Which award was granted over the past year? To...</td>\n",
       "      <td>Award Name: Traffic Bowl - First Place Award R...</td>\n",
       "      <td>text</td>\n",
       "    </tr>\n",
       "    <tr>\n",
       "      <th>28</th>\n",
       "      <td>DR--14627260_INTRO</td>\n",
       "      <td>How do you think sexual harassment as an issue...</td>\n",
       "      <td>NaN</td>\n",
       "      <td>text</td>\n",
       "    </tr>\n",
       "    <tr>\n",
       "      <th>29</th>\n",
       "      <td>DR--14627260_INTRO</td>\n",
       "      <td>What legislative suggestions pertaining to wor...</td>\n",
       "      <td>[\"We believe that the current legislated timef...</td>\n",
       "      <td>text</td>\n",
       "    </tr>\n",
       "    <tr>\n",
       "      <th>30</th>\n",
       "      <td>DR--14627260_INTRO</td>\n",
       "      <td>How does the scarcity of data on mediations im...</td>\n",
       "      <td>The scarcity of data and the deficiencies in t...</td>\n",
       "      <td>text</td>\n",
       "    </tr>\n",
       "    <tr>\n",
       "      <th>31</th>\n",
       "      <td>DR--14627260_INTRO</td>\n",
       "      <td>What and why the firm designates as one of the...</td>\n",
       "      <td>Maurice Blackburn is of the view that one of t...</td>\n",
       "      <td>text</td>\n",
       "    </tr>\n",
       "    <tr>\n",
       "      <th>32</th>\n",
       "      <td>DR--14627260_INTRO</td>\n",
       "      <td>In what cases should online sexual harassment ...</td>\n",
       "      <td>That on-line sexual harassment is criminalised...</td>\n",
       "      <td>text</td>\n",
       "    </tr>\n",
       "  </tbody>\n",
       "</table>\n",
       "</div>"
      ],
      "text/plain": [
       "               document                                 relevant questions  \\\n",
       "0   DR--185549702_INTRO          What is meant by \"computational finance\"?   \n",
       "1   DR--185549702_INTRO         What is meant by 'investor heterogeneity'?   \n",
       "2   DR--185549702_INTRO  What was the revolution witnessed by finance i...   \n",
       "3   DR--185549702_INTRO  Why do you think financial markets are viewed ...   \n",
       "4   DR--185549702_INTRO  Why are the financial markets appealing applic...   \n",
       "5   DR--185549702_INTRO  What are the different design questions in con...   \n",
       "6   DR--185549702_INTRO  Discuss Lettau’s framework using various mathe...   \n",
       "7   DR--185549702_INTRO        The exchange rate is given by what formula?   \n",
       "8   DR--185549702_INTRO     Discuss the criticisms of agent-based markets.   \n",
       "9   DR--185549702_INTRO            How is timing an ignored final problem?   \n",
       "10        DR--110685614  What is the earliest that I can depart from Do...   \n",
       "11        DR--110685614  Is it a departure from the College stop after ...   \n",
       "12        DR--110685614      What are the destinations of the express bus?   \n",
       "13        DR--110685614  at what time is the last opportunity someone c...   \n",
       "14          DR--2256935  What was the gross profit of three months ende...   \n",
       "15          DR--2256935  How much percentage difference of goods sold b...   \n",
       "16          DR--2256935  In which year were there the greatest total as...   \n",
       "17          DR--2256935  In which year were there the greatest total li...   \n",
       "18  DR--182866691_INTRO  How varied were the subjects of the different ...   \n",
       "19  DR--182866691_INTRO  What is the Oregon Section's annual Traffic Bo...   \n",
       "20  DR--182866691_INTRO  The participating schools of the Traffic Bowl ...   \n",
       "21  DR--182866691_INTRO  How do you think the donations from the local ...   \n",
       "22  DR--182866691_INTRO              Discuss the Oregon Section's website.   \n",
       "23  DR--182866691_INTRO  What do you know about the 18th annual ITE Gol...   \n",
       "24  DR--182866691_INTRO        What are the standard rules of a golf game?   \n",
       "25  DR--182866691_INTRO  How do you think the token gifts motivate the ...   \n",
       "26  DR--182866691_INTRO     How was the District 6 meeting a huge success?   \n",
       "27  DR--182866691_INTRO  Which award was granted over the past year? To...   \n",
       "28   DR--14627260_INTRO  How do you think sexual harassment as an issue...   \n",
       "29   DR--14627260_INTRO  What legislative suggestions pertaining to wor...   \n",
       "30   DR--14627260_INTRO  How does the scarcity of data on mediations im...   \n",
       "31   DR--14627260_INTRO  What and why the firm designates as one of the...   \n",
       "32   DR--14627260_INTRO  In what cases should online sexual harassment ...   \n",
       "\n",
       "                                               answer   complexity  \n",
       "0   Models in the realm of agent-based computation...  no raw_text  \n",
       "1   Models in the realm of agent-based computation...  no raw_text  \n",
       "2   In the mid to later part of the 20th century, ...  no raw_text  \n",
       "3                                                 NaN  no raw_text  \n",
       "4   financial markets particularly appealing appli...  no raw_text  \n",
       "5   Probably the most important question is the de...  no raw_text  \n",
       "6   Lettau (1997) provides a good example of a com...  no raw_text  \n",
       "7   The exchange rate is given by et = p1,t p2,t ....  no raw_text  \n",
       "8   A common concern about all agent-based computa...  no raw_text  \n",
       "9   A final problem, often ignored, is timing. Alm...  no raw_text  \n",
       "10  Depart Downtown Arrive at College Depart Colle...        table  \n",
       "11  Depart Downtown Arrive/Depart College Arrive D...        table  \n",
       "12  Depart Downtown Arrive at College Depart Colle...        table  \n",
       "13  Depart Downtown Arrive at College Depart Colle...        table  \n",
       "14  Three months ended June 30, Six months ended J...        table  \n",
       "15  Three months ended June 30, Six months ended J...        table  \n",
       "16  2014 2013 Assets Current assets: Cash and cash...        table  \n",
       "17  2014 2013 Assets Current assets: Cash and cash...        table  \n",
       "18  Date Meeting Subject Location Attendees 4-10-0...        table  \n",
       "19  The Student Liaison Committee had another succ...         text  \n",
       "20  This year we had 52 students from six universi...         text  \n",
       "21  University of Portland took home the grand pri...         text  \n",
       "22  This year the Oregon Section retained the doma...         text  \n",
       "23  The Oregon Section hosted its 18th annual ITE ...         text  \n",
       "24                                                NaN         text  \n",
       "25                                                NaN         text  \n",
       "26  The District 6 meeting was a huge success in t...         text  \n",
       "27  Award Name: Traffic Bowl - First Place Award R...         text  \n",
       "28                                                NaN         text  \n",
       "29  [\"We believe that the current legislated timef...         text  \n",
       "30  The scarcity of data and the deficiencies in t...         text  \n",
       "31  Maurice Blackburn is of the view that one of t...         text  \n",
       "32  That on-line sexual harassment is criminalised...         text  "
      ]
     },
     "execution_count": 16,
     "metadata": {},
     "output_type": "execute_result"
    }
   ],
   "source": [
    "ground_truth"
   ]
  },
  {
   "cell_type": "code",
   "execution_count": 17,
   "id": "590639a1-b19b-4a43-b9e5-ac055f10db0f",
   "metadata": {},
   "outputs": [
    {
     "data": {
      "text/plain": [
       "23"
      ]
     },
     "execution_count": 17,
     "metadata": {},
     "output_type": "execute_result"
    }
   ],
   "source": [
    "len(test_labels)"
   ]
  },
  {
   "cell_type": "markdown",
   "id": "0d3042e3-f970-4d68-9fa7-f61b1028a1e9",
   "metadata": {},
   "source": [
    "## Vectorizer"
   ]
  },
  {
   "cell_type": "code",
   "execution_count": 18,
   "id": "f4531cd4-b775-4aeb-9729-6592ce66f098",
   "metadata": {},
   "outputs": [],
   "source": [
    "def preprocess_text(text):\n",
    "    translator = str.maketrans('', '', string.punctuation)\n",
    "    text_no_punctuation = text.translate(translator)\n",
    "    tokens = nltk.word_tokenize(text_no_punctuation)\n",
    "    stop_words = set(stopwords.words('english'))\n",
    "    tokens = [word.lower() for word in tokens if word not in stop_words]\n",
    "    stemmer = PorterStemmer()\n",
    "    lemmatizer = WordNetLemmatizer()    \n",
    "    return ' '.join(tokens)"
   ]
  },
  {
   "cell_type": "code",
   "execution_count": 19,
   "id": "9c776ddd-2f43-46e7-b819-765e3a3d6042",
   "metadata": {},
   "outputs": [],
   "source": [
    "def tf_encoder(data, clean = False):\n",
    "    vectorizer = TfidfVectorizer()\n",
    "    if clean:\n",
    "        data = [preprocess_text(x) for x in data]\n",
    "    tfidf_vectors = vectorizer.fit_transform(data)\n",
    "    dense_vectors = tfidf_vectors.toarray()\n",
    "    return dense_vectors, vectorizer, data"
   ]
  },
  {
   "cell_type": "code",
   "execution_count": 20,
   "id": "811055cd-d9d0-45bd-a2fc-9e886bedadfc",
   "metadata": {},
   "outputs": [],
   "source": [
    "dense_vectors, vectorizer, data = tf_encoder(all_data_sherpa, False)"
   ]
  },
  {
   "cell_type": "code",
   "execution_count": 21,
   "id": "f3189871-d55b-46db-b0b4-d8d56631a880",
   "metadata": {},
   "outputs": [
    {
     "data": {
      "text/plain": [
       "4821"
      ]
     },
     "execution_count": 21,
     "metadata": {},
     "output_type": "execute_result"
    }
   ],
   "source": [
    "feature_names = vectorizer.get_feature_names_out()\n",
    "len(feature_names)"
   ]
  },
  {
   "cell_type": "markdown",
   "id": "c6488e89-f907-46bc-8397-d10e823ef32e",
   "metadata": {},
   "source": [
    "## FAISS"
   ]
  },
  {
   "cell_type": "markdown",
   "id": "d3031940-ba72-4f8d-9eff-b0044febb982",
   "metadata": {},
   "source": [
    "L2"
   ]
  },
  {
   "cell_type": "code",
   "execution_count": 23,
   "id": "f690a12a-c6ad-4650-8652-5f79c0728361",
   "metadata": {},
   "outputs": [
    {
     "ename": "AttributeError",
     "evalue": "'NoneType' object has no attribute 'fit_transform'",
     "output_type": "error",
     "traceback": [
      "\u001b[1;31m---------------------------------------------------------------------------\u001b[0m",
      "\u001b[1;31mAttributeError\u001b[0m                            Traceback (most recent call last)",
      "Cell \u001b[1;32mIn[23], line 2\u001b[0m\n\u001b[0;32m      1\u001b[0m tf_encoder \u001b[38;5;241m=\u001b[39m Encoder()\n\u001b[1;32m----> 2\u001b[0m \u001b[43mtf_encoder\u001b[49m\u001b[38;5;241;43m.\u001b[39;49m\u001b[43mget_embeddings\u001b[49m\u001b[43m(\u001b[49m\u001b[43mall_data_sherpa\u001b[49m\u001b[43m,\u001b[49m\u001b[43m \u001b[49m\u001b[43mclean\u001b[49m\u001b[38;5;241;43m=\u001b[39;49m\u001b[38;5;28;43;01mTrue\u001b[39;49;00m\u001b[43m)\u001b[49m\n",
      "File \u001b[1;32m~\\Downloads\\External - take_home_challenge_(withJSONs)\\take_home_challenge_(withJSONs)\\src\\encoder\\tf_idf.py:30\u001b[0m, in \u001b[0;36mEncoder.get_embeddings\u001b[1;34m(self, data, clean)\u001b[0m\n\u001b[0;32m     28\u001b[0m \u001b[38;5;28;01mif\u001b[39;00m clean:\n\u001b[0;32m     29\u001b[0m     data \u001b[38;5;241m=\u001b[39m [preprocess_text(x) \u001b[38;5;28;01mfor\u001b[39;00m x \u001b[38;5;129;01min\u001b[39;00m data]\n\u001b[1;32m---> 30\u001b[0m tfidf_vectors \u001b[38;5;241m=\u001b[39m \u001b[38;5;28;43mself\u001b[39;49m\u001b[38;5;241;43m.\u001b[39;49m\u001b[43mmodel\u001b[49m\u001b[38;5;241;43m.\u001b[39;49m\u001b[43mfit_transform\u001b[49m(data)\n\u001b[0;32m     31\u001b[0m embedding \u001b[38;5;241m=\u001b[39m tfidf_vectors\u001b[38;5;241m.\u001b[39mtoarray()\n\u001b[0;32m     32\u001b[0m \u001b[38;5;28;01mreturn\u001b[39;00m embedding\n",
      "\u001b[1;31mAttributeError\u001b[0m: 'NoneType' object has no attribute 'fit_transform'"
     ]
    }
   ],
   "source": [
    "tf_encoder = Encoder()\n",
    "tf_encoder.get_embeddings(all_data_sherpa, clean=True)"
   ]
  },
  {
   "cell_type": "code",
   "execution_count": null,
   "id": "316ab2e7-c305-40a7-a076-fa779b2f0e96",
   "metadata": {},
   "outputs": [],
   "source": [
    "k = 10\n",
    "index = FlatIdx(d=len(feature_names))\n",
    "index.add_idx(tf_encoder.embedding)"
   ]
  },
  {
   "cell_type": "code",
   "execution_count": null,
   "id": "78fbec63-8115-4698-9681-23d915ae1077",
   "metadata": {},
   "outputs": [],
   "source": [
    "test_data = [preprocess_text(x) for x in test_data]\n",
    "retrieved_items, D = index.faiss_tfidf_inference(vectorizer, all_data_sherpa, test_data, k=k)"
   ]
  },
  {
   "cell_type": "code",
   "execution_count": null,
   "id": "5aed7c81-1cad-4fd2-a3df-f3a6f0708fa1",
   "metadata": {},
   "outputs": [],
   "source": [
    "test_labels, retrieved_items, test_query = idk(test_labels, retrieved_items, D, test_data)"
   ]
  },
  {
   "cell_type": "markdown",
   "id": "f775d3d1-fc79-4037-b4c5-22ba3809e70d",
   "metadata": {},
   "source": [
    "### Cosine"
   ]
  },
  {
   "cell_type": "code",
   "execution_count": null,
   "id": "2c3e3c99-c9a7-4e35-a2fc-2948b891f2bb",
   "metadata": {},
   "outputs": [],
   "source": [
    "def normalize_vectors(vectors):\n",
    "    \"\"\"Normalize vectors to unit length.\"\"\"\n",
    "    norm = np.linalg.norm(vectors, axis=1, keepdims=True)\n",
    "    return vectors / np.where(norm == 0, 1, norm)"
   ]
  },
  {
   "cell_type": "code",
   "execution_count": null,
   "id": "82d90ca8-1be9-4018-8cc3-810090f534e2",
   "metadata": {},
   "outputs": [],
   "source": [
    "dense_vectors_ = normalize_vectors(dense_vectors)"
   ]
  },
  {
   "cell_type": "code",
   "execution_count": null,
   "id": "7102802a-63b0-4c71-bad4-29eaf93c79a3",
   "metadata": {},
   "outputs": [],
   "source": [
    "index = faiss.IndexFlatIP(len(feature_names))\n",
    "index.add(dense_vectors)"
   ]
  },
  {
   "cell_type": "code",
   "execution_count": null,
   "id": "0d34eafe-e0ed-4feb-a6ce-e5742553ca5d",
   "metadata": {},
   "outputs": [],
   "source": [
    "xq = vectorizer.transform(test_data)\n",
    "xq = xq.toarray().astype('float32')"
   ]
  },
  {
   "cell_type": "code",
   "execution_count": null,
   "id": "9e8e6d75-b623-4acd-8c89-9322559cb91a",
   "metadata": {},
   "outputs": [],
   "source": [
    "k = 10\n",
    "distances, indices = index.search(xq, k)"
   ]
  },
  {
   "cell_type": "markdown",
   "id": "392c53fa-153a-4965-b1c0-474cdd93d9af",
   "metadata": {},
   "source": [
    "## Eval"
   ]
  },
  {
   "cell_type": "code",
   "execution_count": null,
   "id": "1d8e58de-67f6-4769-b338-79673b5453b2",
   "metadata": {},
   "outputs": [],
   "source": [
    "metric = Eval(k=10)\n",
    "recall, incorrect, correct = metric.recall_k(test_labels, retrieved_items)"
   ]
  },
  {
   "cell_type": "code",
   "execution_count": null,
   "id": "037d052f-e845-4976-8de4-1740cfd98509",
   "metadata": {},
   "outputs": [],
   "source": [
    "print (\"Recall is \", recall)\n",
    "print (\"MRR is \", metric.mean_reciprocal_rank(retrieved_items, test_labels))"
   ]
  },
  {
   "cell_type": "markdown",
   "id": "fdbbea81-066f-45c3-9567-15025b3971b9",
   "metadata": {},
   "source": [
    "# Level-2"
   ]
  },
  {
   "cell_type": "code",
   "execution_count": null,
   "id": "97a93efb-4cd4-4e9a-a7c6-dbd31a4fc550",
   "metadata": {
    "scrolled": true
   },
   "outputs": [],
   "source": [
    "from src.encoder.dragon import Encoder\n",
    "import tqdm"
   ]
  },
  {
   "cell_type": "code",
   "execution_count": null,
   "id": "2e7da1d1-45b4-40f0-b176-79e11e2f83a9",
   "metadata": {},
   "outputs": [],
   "source": [
    "dragon = Encoder()"
   ]
  },
  {
   "cell_type": "code",
   "execution_count": null,
   "id": "6af74dbc-ea71-4e07-a5a1-b1038542ac68",
   "metadata": {
    "scrolled": true
   },
   "outputs": [],
   "source": [
    "# return reordered retrieved ranks\n",
    "reorder_items = []\n",
    "test_query = test_data\n",
    "for i in range(len(test_query)):\n",
    "    print (i)\n",
    "    c_embedding = dragon.get_embeddings(retrieved_items[i])\n",
    "    index = FlatIdx(d=c_embedding.shape[1])\n",
    "    if isinstance(c_embedding, torch.Tensor):\n",
    "        c_embedding = c_embedding.detach().numpy()\n",
    "    index.add_idx(c_embedding)\n",
    "    temp = index.faiss_dragon_inference(dragon.query_encoder, dragon.tokenizer, retrieved_items[i], [test_query[i]], k=len(retrieved_items[i]))\n",
    "    reorder_items.append(temp[0])"
   ]
  },
  {
   "cell_type": "code",
   "execution_count": null,
   "id": "9a21cfd4-b0c9-4bd4-bfd8-7c3076b4ad94",
   "metadata": {},
   "outputs": [],
   "source": [
    "recall, incorrect, correct = metric.recall_k(test_labels, reorder_items)\n",
    "print (\"Recall is \", recall)\n",
    "print (\"MRR is \", metric.mean_reciprocal_rank(reorder_items, test_labels))"
   ]
  },
  {
   "cell_type": "code",
   "execution_count": null,
   "id": "2a201081-e66a-442d-8f0e-d3cd81a07414",
   "metadata": {
    "scrolled": true
   },
   "outputs": [],
   "source": [
    "test_data"
   ]
  },
  {
   "cell_type": "code",
   "execution_count": null,
   "id": "82f82da1-5b01-4a1f-bc89-c544086d8d99",
   "metadata": {},
   "outputs": [],
   "source": []
  }
 ],
 "metadata": {
  "kernelspec": {
   "display_name": "Python 3 (ipykernel)",
   "language": "python",
   "name": "python3"
  },
  "language_info": {
   "codemirror_mode": {
    "name": "ipython",
    "version": 3
   },
   "file_extension": ".py",
   "mimetype": "text/x-python",
   "name": "python",
   "nbconvert_exporter": "python",
   "pygments_lexer": "ipython3",
   "version": "3.12.1"
  }
 },
 "nbformat": 4,
 "nbformat_minor": 5
}
