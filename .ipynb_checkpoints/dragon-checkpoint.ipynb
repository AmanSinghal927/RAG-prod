{
 "cells": [
  {
   "cell_type": "code",
   "execution_count": 1,
   "id": "f07157f0-4abc-4d52-93d0-d970fdd13891",
   "metadata": {},
   "outputs": [
    {
     "name": "stderr",
     "output_type": "stream",
     "text": [
      "C:\\Users\\J C SINGLA\\miniconda3\\Lib\\site-packages\\fuzzywuzzy\\fuzz.py:11: UserWarning: Using slow pure-python SequenceMatcher. Install python-Levenshtein to remove this warning\n",
      "  warnings.warn('Using slow pure-python SequenceMatcher. Install python-Levenshtein to remove this warning')\n"
     ]
    }
   ],
   "source": [
    "import pandas as pd\n",
    "import json \n",
    "import glob\n",
    "import faiss\n",
    "from fuzzywuzzy import fuzz\n",
    "from llmsherpa.readers import LayoutPDFReader\n",
    "import matplotlib.pyplot as plt\n",
    "import numpy as np\n",
    "import os\n",
    "import datetime\n",
    "import torch\n",
    "from transformers import AutoTokenizer, AutoModel"
   ]
  },
  {
   "cell_type": "code",
   "execution_count": 2,
   "id": "fdd0d028-5bb8-4005-985b-0cc2f2420a03",
   "metadata": {},
   "outputs": [],
   "source": [
    "import tqdm"
   ]
  },
  {
   "cell_type": "code",
   "execution_count": 3,
   "id": "60b824d7-348a-4b82-afe2-a4644a74856d",
   "metadata": {},
   "outputs": [
    {
     "name": "stderr",
     "output_type": "stream",
     "text": [
      "[nltk_data] Downloading package punkt to C:\\Users\\J C\n",
      "[nltk_data]     SINGLA\\AppData\\Roaming\\nltk_data...\n",
      "[nltk_data]   Package punkt is already up-to-date!\n",
      "[nltk_data] Downloading package wordnet to C:\\Users\\J C\n",
      "[nltk_data]     SINGLA\\AppData\\Roaming\\nltk_data...\n",
      "[nltk_data]   Package wordnet is already up-to-date!\n",
      "[nltk_data] Downloading package stopwords to C:\\Users\\J C\n",
      "[nltk_data]     SINGLA\\AppData\\Roaming\\nltk_data...\n",
      "[nltk_data]   Package stopwords is already up-to-date!\n"
     ]
    }
   ],
   "source": [
    "from src.rechunker import Rechunker\n",
    "from src.encoder.sentence_transformer import Encoder\n",
    "from src.faiss.flat_idx import FlatIdx\n",
    "from utils.utils import flatten_list, write_list_to_file, read_list_from_file\n",
    "from src.eval import Eval\n"
   ]
  },
  {
   "cell_type": "markdown",
   "id": "ce2ff93c-1052-426a-a382-a395112be334",
   "metadata": {},
   "source": [
    "## Data"
   ]
  },
  {
   "cell_type": "code",
   "execution_count": 4,
   "id": "4bd05638-8b74-4f2c-beef-eabca0b58313",
   "metadata": {},
   "outputs": [],
   "source": [
    "save_path = r\"C:\\Users\\J C SINGLA\\Downloads\\External - take_home_challenge_(withJSONs)\\take_home_challenge_(withJSONs)\\data\""
   ]
  },
  {
   "cell_type": "code",
   "execution_count": 5,
   "id": "200365ac-6973-4c43-8370-76170d8caa5e",
   "metadata": {},
   "outputs": [],
   "source": [
    "all_data_sherpa = read_list_from_file(save_path, \"sherpa_paras_and_tables\")\n",
    "filenames_sherpa = read_list_from_file(save_path, \"sherpa_paras_and_tables_filenames\")\n",
    "assert (len(all_data_sherpa)==len(filenames_sherpa))"
   ]
  },
  {
   "cell_type": "code",
   "execution_count": 6,
   "id": "267b0247-1a9f-43ef-9a38-deb3246b7740",
   "metadata": {},
   "outputs": [],
   "source": [
    "ground_truth_path = r\"C:\\Users\\J C SINGLA\\Downloads\\External - take_home_challenge_(withJSONs)\\take_home_challenge_(withJSONs)\\document_questions.xlsx\"\n",
    "ground_truth = pd.read_excel(ground_truth_path)\n",
    "ground_truth_text = ground_truth\n",
    "test_data = list(ground_truth_text[\"relevant questions\"])\n",
    "test_labels = list(ground_truth_text[\"answer\"])"
   ]
  },
  {
   "cell_type": "code",
   "execution_count": 7,
   "id": "e515cabe-a9dc-4594-93d4-69b3f49c868d",
   "metadata": {},
   "outputs": [
    {
     "data": {
      "text/plain": [
       "(33, 502)"
      ]
     },
     "execution_count": 7,
     "metadata": {},
     "output_type": "execute_result"
    }
   ],
   "source": [
    "len(test_labels), len(all_data_sherpa)"
   ]
  },
  {
   "cell_type": "markdown",
   "id": "02411fe2-5d20-4384-b153-ed8c625a9743",
   "metadata": {},
   "source": [
    "## Model"
   ]
  },
  {
   "cell_type": "code",
   "execution_count": 8,
   "id": "330974fd-0a35-4c69-8996-9d1bc581456a",
   "metadata": {},
   "outputs": [],
   "source": [
    "def normalize_vectors(vectors):\n",
    "    \"\"\"Normalize vectors to unit length.\"\"\"\n",
    "    norm = np.linalg.norm(vectors, axis=1, keepdims=True)\n",
    "    return vectors / np.where(norm == 0, 1, norm)"
   ]
  },
  {
   "cell_type": "code",
   "execution_count": 9,
   "id": "efae82d9-7036-4cb5-a9a8-62c5e5f6a35b",
   "metadata": {},
   "outputs": [],
   "source": [
    "tokenizer = AutoTokenizer.from_pretrained('facebook/dragon-plus-query-encoder')\n",
    "query_encoder = AutoModel.from_pretrained('facebook/dragon-plus-query-encoder')\n",
    "context_encoder = AutoModel.from_pretrained('facebook/dragon-plus-context-encoder')"
   ]
  },
  {
   "cell_type": "code",
   "execution_count": 10,
   "id": "429c0bfa-b3ac-45ef-a481-014b250ed93b",
   "metadata": {},
   "outputs": [],
   "source": [
    "query =  test_data\n",
    "contexts = all_data_sherpa"
   ]
  },
  {
   "cell_type": "code",
   "execution_count": 11,
   "id": "d12636c7-eddf-4a9e-9dee-db80424e2ca7",
   "metadata": {
    "scrolled": true
   },
   "outputs": [
    {
     "name": "stderr",
     "output_type": "stream",
     "text": [
      "100%|███████████████████████████████████████████████████████████████████████| 502/502 [03:09<00:00,  2.65it/s]\n"
     ]
    }
   ],
   "source": [
    "ctx_emb = torch.empty((0, 768))\n",
    "for i in tqdm.tqdm(range(len(all_data_sherpa))):\n",
    "    ctx_input = tokenizer(contexts[i:i+1], padding=True, truncation=True, return_tensors='pt', max_length = 512)\n",
    "    temp_emb = context_encoder(**ctx_input).last_hidden_state[:, 0, :]\n",
    "    ctx_emb = torch.cat((ctx_emb, temp_emb), dim=0)"
   ]
  },
  {
   "cell_type": "code",
   "execution_count": 12,
   "id": "7b2ff31f-2f75-42e3-ba83-c244c9d838fe",
   "metadata": {},
   "outputs": [],
   "source": [
    "ctx_emb_ = normalize_vectors(ctx_emb.detach().numpy())"
   ]
  },
  {
   "cell_type": "code",
   "execution_count": 13,
   "id": "e0dba7b8-cc4c-4ded-bf83-277eafeacbc3",
   "metadata": {},
   "outputs": [],
   "source": [
    "save_path = r\"C:\\Users\\J C SINGLA\\Downloads\\External - take_home_challenge_(withJSONs)\\take_home_challenge_(withJSONs)\\data\\tensors\\dragon_paras_norm.pt\"\n",
    "torch.save(ctx_emb_, save_path)"
   ]
  },
  {
   "cell_type": "code",
   "execution_count": null,
   "id": "d1740b54-78a7-4067-bd78-6c005ab011d2",
   "metadata": {},
   "outputs": [],
   "source": []
  },
  {
   "cell_type": "markdown",
   "id": "80b3e283-1cd1-404f-8d48-e1775a308827",
   "metadata": {},
   "source": [
    "QUERY VECTORS"
   ]
  },
  {
   "cell_type": "code",
   "execution_count": 30,
   "id": "49869ff3-8426-460e-80ef-b888960c5413",
   "metadata": {},
   "outputs": [
    {
     "name": "stderr",
     "output_type": "stream",
     "text": [
      "100%|█████████████████████████████████████████████████████████████████████████| 33/33 [00:01<00:00, 16.97it/s]\n"
     ]
    }
   ],
   "source": [
    "xq = torch.empty((0, 768))\n",
    "for i in tqdm.tqdm(range(len(test_data))):\n",
    "    q_input = tokenizer(test_data[i:i+1], padding=True, truncation=True, return_tensors='pt', max_length = 512)\n",
    "    temp_emb = context_encoder(**q_input).last_hidden_state[:, 0, :]\n",
    "    xq = torch.cat((xq, temp_emb), dim=0)"
   ]
  },
  {
   "cell_type": "code",
   "execution_count": 31,
   "id": "074e3603-a0ca-49f7-85f3-3b1187534cbd",
   "metadata": {},
   "outputs": [],
   "source": [
    "xq_ = normalize_vectors(xq.detach().numpy())"
   ]
  },
  {
   "cell_type": "code",
   "execution_count": 32,
   "id": "f87f49a7-ad0e-4a9f-ba78-397284a2a5ed",
   "metadata": {},
   "outputs": [],
   "source": [
    "index = faiss.IndexFlatL2(ctx_emb.shape[1])"
   ]
  },
  {
   "cell_type": "code",
   "execution_count": 33,
   "id": "3b84526b-f162-488f-84a5-f8701e3aff9f",
   "metadata": {},
   "outputs": [],
   "source": [
    "index.add(ctx_emb_)"
   ]
  },
  {
   "cell_type": "markdown",
   "id": "bfc77dd3-e647-461b-bc32-ea7c9a977237",
   "metadata": {},
   "source": [
    "## Search"
   ]
  },
  {
   "cell_type": "code",
   "execution_count": 34,
   "id": "ee2c340a-fad0-44b9-84cb-43da118fac5f",
   "metadata": {},
   "outputs": [],
   "source": [
    "k = 10\n",
    "distances, indices = index.search(xq_, k)"
   ]
  },
  {
   "cell_type": "code",
   "execution_count": 35,
   "id": "71ffc75b-3385-4801-a08d-9e68a8ec840a",
   "metadata": {},
   "outputs": [],
   "source": [
    "ret_context = []\n",
    "for i in range(len(test_data)):\n",
    "    retrieved_items = [contexts[i] for i in list(indices[i])]\n",
    "    ret_context.append(retrieved_items)"
   ]
  },
  {
   "cell_type": "code",
   "execution_count": 36,
   "id": "57df47cc-1da8-4d22-b3fd-a4d4131ead94",
   "metadata": {},
   "outputs": [],
   "source": [
    "metric = Eval(k=10)\n",
    "recall, incorrect, correct = metric.recall_k(test_labels, ret_context)"
   ]
  },
  {
   "cell_type": "code",
   "execution_count": 37,
   "id": "efa3219e-472c-409c-8eb9-f72b372e7993",
   "metadata": {},
   "outputs": [
    {
     "name": "stdout",
     "output_type": "stream",
     "text": [
      "Recall is  0.5757575757575758\n",
      "MRR is  0.27878787878787875\n"
     ]
    }
   ],
   "source": [
    "print (\"Recall is \", recall)\n",
    "print (\"MRR is \", metric.mean_reciprocal_rank(ret_context, test_labels))"
   ]
  },
  {
   "cell_type": "code",
   "execution_count": 41,
   "id": "75580952-becf-4f10-a0c2-bd9707b2838e",
   "metadata": {
    "scrolled": true
   },
   "outputs": [
    {
     "data": {
      "text/plain": [
       "{'None': ['Financial markets are an important challenge for agent-based computational modelers.\\nFinancial markets may be one of the important early areas where agent-based methods show their worth, for two basic reasons.',\n",
       "  'Financial markets are particularly appealing applications for agent-based methods for several reasons.\\nFirst, the key debates in nance about market eciency and rationality are still unresolved.\\nSecond, nancial time series contain many curious puzzles that are not well understood.\\nThird, nancial markets provide a wealth of pricing and volume data that can be analyzed.\\nFourth, when considering evolution, nancial markets provide a good approximation to a crude tness measure through wealth or return performance.\\nFinally, there are strong connections to relevant experimental results that in some cases operate at the same time scales as actual nancial markets.',\n",
       "  'Levy, M., Levy, H. & Solomon, S. (2000), Microscopic Simulation of Financial Markets, Academic Press, New York, NY.',\n",
       "  'This sections covers several nancial market models which are dierent from those considered above.\\nAmong these are markets which consider detailed trading institutions and learning market makers, and also models which consider the coevolution of strategies and nancial securities.',\n",
       "  'performance.\\nThis also aligns with the bulk of the learning literature in macroeconomics, which often concentrates on forecast evaluation.',\n",
       "  'Models in the realm of agent-based computational nance view nancial markets as interacting groups of learning, boundedly-rational agents.\\nThe computer may or may not be a necessary tool to understand the dynamics of these markets.\\nThis survey will concentrate on the cases where analytic solutions would be impossible, and computational tools are necessary.3 It is important to distinguish agent-based models from other more general heterogeneous agent models in nance, since the latter have been part of the eld for some time.4 In agent-based nancial markets, dynamic heterogeneity is critical.\\nThis heterogeneity is represented by a distribution of agents, or wealth, across either a xed or changing set of strategies.\\nIn principle, optimizing agents would respond optimally to this distribution of other agent strategies, but in general, this state space is far too complicated to begin to calculate an optimal strategy, forcing some form of bounded rationality on both agents and the modeler.\\nIt is important to note that in these worlds bounded rationality is driven by the complexity of the state space more than the perceived limitations of individual agents.\\nIt is also important to remember that the simplied rules of thumb used by agents do not suggest that the exercise is forcing some sort of simplied solution on the dynamics of the steady state or the model, 1This view is not far o the more general perspective on information dissemination in the economy as a whole put forth in Hayek (1945).',\n",
       "  'or is presupposing that markets are not well represented by equilibrium rational stories.\\nHowever, it is stressing that rules of thumb need to be built from a foundation of simple adaptive behaviors.',\n",
       "  'Routledge, B. R. (1999), Adaptive learning in nancial markets, Review of Financial Studies 12, 11651202.',\n",
       "  'Fama, E. F. (1970), Ecient capital markets: A review of theory and empirical work, Journal of Finance',\n",
       "  'Westerho, F. (2003a), Central bank intervention and feedback traders, International Financial Market, Institutions, and Money 13, 419427.']}"
      ]
     },
     "execution_count": 41,
     "metadata": {},
     "output_type": "execute_result"
    }
   ],
   "source": [
    "incorrect[3]"
   ]
  },
  {
   "cell_type": "code",
   "execution_count": 43,
   "id": "2d2cb2c7-6f91-4261-a34d-bb2e0931eac6",
   "metadata": {},
   "outputs": [
    {
     "data": {
      "text/plain": [
       "'Why do you think financial markets are viewed as interacting groups of learning and boundedly-rational agents?'"
      ]
     },
     "execution_count": 43,
     "metadata": {},
     "output_type": "execute_result"
    }
   ],
   "source": [
    "test_data[3]"
   ]
  },
  {
   "cell_type": "code",
   "execution_count": null,
   "id": "bdbe7597-fa9d-4e5a-b82d-d716d35f53a3",
   "metadata": {},
   "outputs": [],
   "source": []
  }
 ],
 "metadata": {
  "kernelspec": {
   "display_name": "Python 3 (ipykernel)",
   "language": "python",
   "name": "python3"
  },
  "language_info": {
   "codemirror_mode": {
    "name": "ipython",
    "version": 3
   },
   "file_extension": ".py",
   "mimetype": "text/x-python",
   "name": "python",
   "nbconvert_exporter": "python",
   "pygments_lexer": "ipython3",
   "version": "3.12.1"
  }
 },
 "nbformat": 4,
 "nbformat_minor": 5
}
