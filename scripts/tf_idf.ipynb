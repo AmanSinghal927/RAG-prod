{
 "cells": [
  {
   "cell_type": "code",
   "execution_count": null,
   "id": "60ecc7f9-ca3f-46e8-8add-8e0f11384bfd",
   "metadata": {},
   "outputs": [],
   "source": [
    "import pandas as pd\n",
    "import json \n",
    "import glob\n",
    "import faiss\n",
    "from fuzzywuzzy import fuzz\n",
    "from llmsherpa.readers import LayoutPDFReader\n",
    "import matplotlib.pyplot as plt\n",
    "import numpy as np\n",
    "import os\n",
    "import datetime\n",
    "import torch\n",
    "from sklearn.feature_extraction.text import TfidfVectorizer\n",
    "from sklearn.feature_selection import VarianceThreshold\n",
    "import faiss"
   ]
  },
  {
   "cell_type": "code",
   "execution_count": null,
   "id": "4e995938-23c3-4fd6-9de4-71b4d2473055",
   "metadata": {},
   "outputs": [],
   "source": [
    "from src.rechunker import Rechunker\n",
    "from src.encoder.tf_idf import Encoder\n",
    "from src.faiss.flat_idx import FlatIdx\n",
    "from utils.utils import flatten_list, write_list_to_file, read_list_from_file\n",
    "from src.eval import Eval\n",
    "from src.post_processing import idk"
   ]
  },
  {
   "cell_type": "code",
   "execution_count": null,
   "id": "f8b16390-28d4-4453-ac21-975e09927379",
   "metadata": {},
   "outputs": [],
   "source": [
    "import nltk\n",
    "from nltk.stem import PorterStemmer, WordNetLemmatizer\n",
    "from nltk.corpus import stopwords\n",
    "import string\n",
    "\n",
    "nltk.download('punkt')\n",
    "nltk.download('wordnet')\n",
    "nltk.download('stopwords')"
   ]
  },
  {
   "cell_type": "markdown",
   "id": "ad0c2c46-55da-4968-bbff-f1dcb8883fc6",
   "metadata": {},
   "source": [
    "## Data"
   ]
  },
  {
   "cell_type": "code",
   "execution_count": null,
   "id": "599ba573-541e-4cb9-86c6-7a2d9d0477b3",
   "metadata": {},
   "outputs": [],
   "source": [
    "save_path = r\"C:\\Users\\J C SINGLA\\Downloads\\External - take_home_challenge_(withJSONs)\\take_home_challenge_(withJSONs)\\data\""
   ]
  },
  {
   "cell_type": "code",
   "execution_count": null,
   "id": "1ff6e18a-bbc4-4c4f-9515-739b793549a7",
   "metadata": {},
   "outputs": [],
   "source": [
    "all_data_sherpa = read_list_from_file(save_path, \"sherpa_paras_and_tables\")\n",
    "filenames_sherpa = read_list_from_file(save_path, \"sherpa_paras_and_tables_filenames\")\n",
    "assert (len(all_data_sherpa)==len(filenames_sherpa))"
   ]
  },
  {
   "cell_type": "code",
   "execution_count": null,
   "id": "3e2c34af-dde7-4b8f-98b8-1818bb041308",
   "metadata": {},
   "outputs": [],
   "source": [
    "ground_truth_path = r\"C:\\Users\\J C SINGLA\\Downloads\\External - take_home_challenge_(withJSONs)\\take_home_challenge_(withJSONs)\\document_questions.xlsx\"\n",
    "ground_truth = pd.read_excel(ground_truth_path)\n",
    "ground_truth_text = ground_truth[ground_truth[\"complexity\"].isin([\"table\", \"text\"])].copy()\n",
    "test_data = list(ground_truth_text[\"relevant questions\"])\n",
    "test_labels = list(ground_truth_text[\"answer\"])"
   ]
  },
  {
   "cell_type": "code",
   "execution_count": null,
   "id": "e8aec16a-1271-479f-a3fb-c7cec07c3875",
   "metadata": {
    "scrolled": true
   },
   "outputs": [],
   "source": [
    "ground_truth"
   ]
  },
  {
   "cell_type": "code",
   "execution_count": null,
   "id": "590639a1-b19b-4a43-b9e5-ac055f10db0f",
   "metadata": {},
   "outputs": [],
   "source": [
    "len(test_labels)"
   ]
  },
  {
   "cell_type": "markdown",
   "id": "0d3042e3-f970-4d68-9fa7-f61b1028a1e9",
   "metadata": {},
   "source": [
    "## Vectorizer"
   ]
  },
  {
   "cell_type": "code",
   "execution_count": null,
   "id": "f4531cd4-b775-4aeb-9729-6592ce66f098",
   "metadata": {},
   "outputs": [],
   "source": [
    "def preprocess_text(text):\n",
    "    translator = str.maketrans('', '', string.punctuation)\n",
    "    text_no_punctuation = text.translate(translator)\n",
    "    tokens = nltk.word_tokenize(text_no_punctuation)\n",
    "    stop_words = set(stopwords.words('english'))\n",
    "    tokens = [word.lower() for word in tokens if word not in stop_words]\n",
    "    stemmer = PorterStemmer()\n",
    "    lemmatizer = WordNetLemmatizer()    \n",
    "    return ' '.join(tokens)"
   ]
  },
  {
   "cell_type": "code",
   "execution_count": null,
   "id": "9c776ddd-2f43-46e7-b819-765e3a3d6042",
   "metadata": {},
   "outputs": [],
   "source": [
    "def tf_encoder(data, clean = False):\n",
    "    vectorizer = TfidfVectorizer()\n",
    "    if clean:\n",
    "        data = [preprocess_text(x) for x in data]\n",
    "    tfidf_vectors = vectorizer.fit_transform(data)\n",
    "    dense_vectors = tfidf_vectors.toarray()\n",
    "    return dense_vectors, vectorizer, data"
   ]
  },
  {
   "cell_type": "code",
   "execution_count": null,
   "id": "811055cd-d9d0-45bd-a2fc-9e886bedadfc",
   "metadata": {},
   "outputs": [],
   "source": [
    "dense_vectors, vectorizer, data = tf_encoder(all_data_sherpa, False)"
   ]
  },
  {
   "cell_type": "code",
   "execution_count": null,
   "id": "f3189871-d55b-46db-b0b4-d8d56631a880",
   "metadata": {},
   "outputs": [],
   "source": [
    "feature_names = vectorizer.get_feature_names_out()\n",
    "len(feature_names)"
   ]
  },
  {
   "cell_type": "markdown",
   "id": "c6488e89-f907-46bc-8397-d10e823ef32e",
   "metadata": {},
   "source": [
    "## FAISS"
   ]
  },
  {
   "cell_type": "markdown",
   "id": "d3031940-ba72-4f8d-9eff-b0044febb982",
   "metadata": {},
   "source": [
    "L2"
   ]
  },
  {
   "cell_type": "code",
   "execution_count": null,
   "id": "f690a12a-c6ad-4650-8652-5f79c0728361",
   "metadata": {},
   "outputs": [],
   "source": [
    "tf_encoder = Encoder(all_data_sherpa)\n",
    "tf_encoder.get_embeddings(clean=True)"
   ]
  },
  {
   "cell_type": "code",
   "execution_count": null,
   "id": "316ab2e7-c305-40a7-a076-fa779b2f0e96",
   "metadata": {},
   "outputs": [],
   "source": [
    "k = 10\n",
    "index = FlatIdx(d=len(feature_names))\n",
    "index.add_idx(tf_encoder.embedding)"
   ]
  },
  {
   "cell_type": "code",
   "execution_count": null,
   "id": "78fbec63-8115-4698-9681-23d915ae1077",
   "metadata": {},
   "outputs": [],
   "source": [
    "test_data = [preprocess_text(x) for x in test_data]\n",
    "retrieved_items, D = index.faiss_tfidf_inference(vectorizer, all_data_sherpa, test_data, k=k)"
   ]
  },
  {
   "cell_type": "code",
   "execution_count": null,
   "id": "5aed7c81-1cad-4fd2-a3df-f3a6f0708fa1",
   "metadata": {},
   "outputs": [],
   "source": [
    "test_labels, retrieved_items, test_query = idk(test_labels, retrieved_items, D, test_data)"
   ]
  },
  {
   "cell_type": "markdown",
   "id": "f775d3d1-fc79-4037-b4c5-22ba3809e70d",
   "metadata": {},
   "source": [
    "### Cosine"
   ]
  },
  {
   "cell_type": "code",
   "execution_count": null,
   "id": "2c3e3c99-c9a7-4e35-a2fc-2948b891f2bb",
   "metadata": {},
   "outputs": [],
   "source": [
    "def normalize_vectors(vectors):\n",
    "    \"\"\"Normalize vectors to unit length.\"\"\"\n",
    "    norm = np.linalg.norm(vectors, axis=1, keepdims=True)\n",
    "    return vectors / np.where(norm == 0, 1, norm)"
   ]
  },
  {
   "cell_type": "code",
   "execution_count": null,
   "id": "82d90ca8-1be9-4018-8cc3-810090f534e2",
   "metadata": {},
   "outputs": [],
   "source": [
    "dense_vectors_ = normalize_vectors(dense_vectors)"
   ]
  },
  {
   "cell_type": "code",
   "execution_count": null,
   "id": "7102802a-63b0-4c71-bad4-29eaf93c79a3",
   "metadata": {},
   "outputs": [],
   "source": [
    "index = faiss.IndexFlatIP(len(feature_names))\n",
    "index.add(dense_vectors)"
   ]
  },
  {
   "cell_type": "code",
   "execution_count": null,
   "id": "0d34eafe-e0ed-4feb-a6ce-e5742553ca5d",
   "metadata": {},
   "outputs": [],
   "source": [
    "xq = vectorizer.transform(test_data)\n",
    "xq = xq.toarray().astype('float32')"
   ]
  },
  {
   "cell_type": "code",
   "execution_count": null,
   "id": "9e8e6d75-b623-4acd-8c89-9322559cb91a",
   "metadata": {},
   "outputs": [],
   "source": [
    "k = 10\n",
    "distances, indices = index.search(xq, k)"
   ]
  },
  {
   "cell_type": "markdown",
   "id": "392c53fa-153a-4965-b1c0-474cdd93d9af",
   "metadata": {},
   "source": [
    "## Eval"
   ]
  },
  {
   "cell_type": "code",
   "execution_count": null,
   "id": "1d8e58de-67f6-4769-b338-79673b5453b2",
   "metadata": {},
   "outputs": [],
   "source": [
    "metric = Eval(k=10)\n",
    "recall, incorrect, correct = metric.recall_k(test_labels, retrieved_items)"
   ]
  },
  {
   "cell_type": "code",
   "execution_count": null,
   "id": "037d052f-e845-4976-8de4-1740cfd98509",
   "metadata": {},
   "outputs": [],
   "source": [
    "print (\"Recall is \", recall)\n",
    "print (\"MRR is \", metric.mean_reciprocal_rank(retrieved_items, test_labels))"
   ]
  },
  {
   "cell_type": "markdown",
   "id": "fdbbea81-066f-45c3-9567-15025b3971b9",
   "metadata": {},
   "source": [
    "# Level-2"
   ]
  },
  {
   "cell_type": "code",
   "execution_count": null,
   "id": "97a93efb-4cd4-4e9a-a7c6-dbd31a4fc550",
   "metadata": {
    "scrolled": true
   },
   "outputs": [],
   "source": [
    "from src.encoder.dragon import Encoder\n",
    "import tqdm"
   ]
  },
  {
   "cell_type": "code",
   "execution_count": null,
   "id": "2e7da1d1-45b4-40f0-b176-79e11e2f83a9",
   "metadata": {},
   "outputs": [],
   "source": [
    "dragon = Encoder()"
   ]
  },
  {
   "cell_type": "code",
   "execution_count": null,
   "id": "6af74dbc-ea71-4e07-a5a1-b1038542ac68",
   "metadata": {
    "scrolled": true
   },
   "outputs": [],
   "source": [
    "# return reordered retrieved ranks\n",
    "reorder_items = []\n",
    "test_query = test_data\n",
    "for i in range(len(test_query)):\n",
    "    print (i)\n",
    "    c_embedding = dragon.get_embeddings(retrieved_items[i])\n",
    "    index = FlatIdx(d=c_embedding.shape[1])\n",
    "    if isinstance(c_embedding, torch.Tensor):\n",
    "        c_embedding = c_embedding.detach().numpy()\n",
    "    index.add_idx(c_embedding)\n",
    "    temp = index.faiss_dragon_inference(dragon.query_encoder, dragon.tokenizer, retrieved_items[i], [test_query[i]], k=len(retrieved_items[i]))\n",
    "    reorder_items.append(temp[0])"
   ]
  },
  {
   "cell_type": "code",
   "execution_count": null,
   "id": "9a21cfd4-b0c9-4bd4-bfd8-7c3076b4ad94",
   "metadata": {},
   "outputs": [],
   "source": [
    "recall, incorrect, correct = metric.recall_k(test_labels, reorder_items)\n",
    "print (\"Recall is \", recall)\n",
    "print (\"MRR is \", metric.mean_reciprocal_rank(reorder_items, test_labels))"
   ]
  },
  {
   "cell_type": "code",
   "execution_count": null,
   "id": "2a201081-e66a-442d-8f0e-d3cd81a07414",
   "metadata": {
    "scrolled": true
   },
   "outputs": [],
   "source": [
    "test_data"
   ]
  },
  {
   "cell_type": "code",
   "execution_count": null,
   "id": "82f82da1-5b01-4a1f-bc89-c544086d8d99",
   "metadata": {},
   "outputs": [],
   "source": []
  }
 ],
 "metadata": {
  "kernelspec": {
   "display_name": "Python 3 (ipykernel)",
   "language": "python",
   "name": "python3"
  },
  "language_info": {
   "codemirror_mode": {
    "name": "ipython",
    "version": 3
   },
   "file_extension": ".py",
   "mimetype": "text/x-python",
   "name": "python",
   "nbconvert_exporter": "python",
   "pygments_lexer": "ipython3",
   "version": "3.12.1"
  }
 },
 "nbformat": 4,
 "nbformat_minor": 5
}
