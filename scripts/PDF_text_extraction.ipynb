{
 "cells": [
  {
   "cell_type": "code",
   "execution_count": null,
   "id": "059f62ec",
   "metadata": {},
   "outputs": [],
   "source": [
    "from tqdm import tqdm"
   ]
  },
  {
   "cell_type": "code",
   "execution_count": null,
   "id": "cab1796e",
   "metadata": {},
   "outputs": [],
   "source": [
    "pdf_path = \"./pdfs/DR--185549702_INTRO.pdf\""
   ]
  },
  {
   "cell_type": "markdown",
   "id": "5c764d17",
   "metadata": {},
   "source": [
    "# 1. LLMSherpa (LayoutPDFReader)"
   ]
  },
  {
   "cell_type": "code",
   "execution_count": null,
   "id": "02e94fa5",
   "metadata": {},
   "outputs": [],
   "source": [
    "# !pip install llmsherpa"
   ]
  },
  {
   "cell_type": "code",
   "execution_count": null,
   "id": "70450705",
   "metadata": {},
   "outputs": [],
   "source": [
    "from llmsherpa.readers import LayoutPDFReader"
   ]
  },
  {
   "cell_type": "code",
   "execution_count": null,
   "id": "08a5c0e8",
   "metadata": {},
   "outputs": [],
   "source": [
    "llmsherpa_api_url = \"https://readers.llmsherpa.com/api/document/developer/parseDocument?renderFormat=all\"\n",
    "\n",
    "pdf_reader = LayoutPDFReader(llmsherpa_api_url)\n",
    "doc = pdf_reader.read_pdf(pdf_path)"
   ]
  },
  {
   "cell_type": "markdown",
   "id": "267e8c43",
   "metadata": {},
   "source": [
    "### HTML extraction"
   ]
  },
  {
   "cell_type": "code",
   "execution_count": null,
   "id": "d6252909",
   "metadata": {},
   "outputs": [],
   "source": [
    "doc.to_html()"
   ]
  },
  {
   "cell_type": "markdown",
   "id": "7a048a68",
   "metadata": {},
   "source": [
    "### Text extraction"
   ]
  },
  {
   "cell_type": "code",
   "execution_count": null,
   "id": "de50643f",
   "metadata": {},
   "outputs": [],
   "source": [
    "doc.to_text()"
   ]
  },
  {
   "cell_type": "markdown",
   "id": "ba3bfd6e",
   "metadata": {},
   "source": [
    "### JSON"
   ]
  },
  {
   "cell_type": "code",
   "execution_count": null,
   "id": "a2f37f43",
   "metadata": {},
   "outputs": [],
   "source": [
    "import pandas as pd\n",
    "pd.DataFrame(doc.json).head()"
   ]
  },
  {
   "cell_type": "markdown",
   "id": "c34fa4fc",
   "metadata": {},
   "source": [
    "### Tables"
   ]
  },
  {
   "cell_type": "code",
   "execution_count": null,
   "id": "07e2e7f6",
   "metadata": {},
   "outputs": [],
   "source": [
    "doc.tables()"
   ]
  },
  {
   "cell_type": "code",
   "execution_count": null,
   "id": "04b23a4c",
   "metadata": {},
   "outputs": [],
   "source": [
    "doc.tables()[-1].to_html()"
   ]
  },
  {
   "cell_type": "markdown",
   "id": "6097eed3",
   "metadata": {},
   "source": [
    "### Chunk-wise extraction"
   ]
  },
  {
   "cell_type": "code",
   "execution_count": null,
   "id": "882f4443",
   "metadata": {},
   "outputs": [],
   "source": [
    "all_chunks = []\n",
    "for chunk in doc.chunks():\n",
    "    all_chunks.append(chunk.to_text())"
   ]
  },
  {
   "cell_type": "code",
   "execution_count": null,
   "id": "0f5c9f87",
   "metadata": {},
   "outputs": [],
   "source": [
    "all_chunks[-2]"
   ]
  },
  {
   "cell_type": "markdown",
   "id": "a1436ae9",
   "metadata": {},
   "source": [
    "# 2. PyPDF"
   ]
  },
  {
   "cell_type": "code",
   "execution_count": null,
   "id": "586d9980",
   "metadata": {},
   "outputs": [],
   "source": [
    "# !pip install pypdf"
   ]
  },
  {
   "cell_type": "code",
   "execution_count": null,
   "id": "b53bc4aa",
   "metadata": {},
   "outputs": [],
   "source": [
    "from pypdf import PdfReader"
   ]
  },
  {
   "cell_type": "code",
   "execution_count": null,
   "id": "6a120d0a",
   "metadata": {},
   "outputs": [],
   "source": [
    "# creating a pdf reader object \n",
    "reader = PdfReader(pdf_path) \n",
    "\n",
    "# printing number of pages in pdf file \n",
    "print(f\"No. of pages = {len(reader.pages)}\\n\\n\") \n",
    "\n",
    "# getting a specific page from the pdf file \n",
    "page = reader.pages[0] \n",
    "\n",
    "# extracting text from page \n",
    "text = page.extract_text() \n",
    "print(text)"
   ]
  },
  {
   "cell_type": "code",
   "execution_count": null,
   "id": "f5b2b462",
   "metadata": {
    "scrolled": true
   },
   "outputs": [],
   "source": [
    "all_texts = []\n",
    "\n",
    "for page in tqdm(reader.pages):\n",
    "    text = page.extract_text()\n",
    "    all_texts.append(text)\n",
    "    \n",
    "raw_text = \"\\n\".join(all_texts)\n",
    "print(raw_text)"
   ]
  },
  {
   "cell_type": "markdown",
   "id": "a05e572d",
   "metadata": {},
   "source": [
    "### Last Page Table"
   ]
  },
  {
   "cell_type": "code",
   "execution_count": null,
   "id": "e2de9c59",
   "metadata": {},
   "outputs": [],
   "source": [
    "print(all_texts[-1])"
   ]
  },
  {
   "cell_type": "markdown",
   "id": "46b3e07d",
   "metadata": {},
   "source": [
    "# 3. PDFPlumber"
   ]
  },
  {
   "cell_type": "markdown",
   "id": "c52505a6",
   "metadata": {},
   "source": [
    "### Not too great at text extraction, but can extract tables!"
   ]
  },
  {
   "cell_type": "code",
   "execution_count": null,
   "id": "7358290e",
   "metadata": {},
   "outputs": [],
   "source": [
    "# !pip install pdfplumber"
   ]
  },
  {
   "cell_type": "code",
   "execution_count": null,
   "id": "097f353b",
   "metadata": {},
   "outputs": [],
   "source": [
    "import pdfplumber"
   ]
  },
  {
   "cell_type": "code",
   "execution_count": null,
   "id": "0f016bb8",
   "metadata": {},
   "outputs": [],
   "source": [
    "with pdfplumber.open(pdf_path) as pdf:\n",
    "    first_page = pdf.pages[0]\n",
    "    print(first_page.extract_text())"
   ]
  },
  {
   "cell_type": "code",
   "execution_count": null,
   "id": "8305eaa7",
   "metadata": {
    "scrolled": true
   },
   "outputs": [],
   "source": [
    "all_texts = []\n",
    "\n",
    "with pdfplumber.open(pdf_path) as pdf:\n",
    "    for page in tqdm(pdf.pages):\n",
    "        text = page.extract_text()\n",
    "        all_texts.append(text)\n",
    "    \n",
    "raw_text = \"\\n\".join(all_texts)\n",
    "print(raw_text)"
   ]
  },
  {
   "cell_type": "code",
   "execution_count": null,
   "id": "30a5ce7c",
   "metadata": {},
   "outputs": [],
   "source": [
    "def extract_table_to_html(pdf_path, page_number=0, table_index=0):\n",
    "    with pdfplumber.open(pdf_path) as pdf:\n",
    "        page = pdf.pages[page_number]\n",
    "        tables = page.extract_tables()\n",
    "        if len(tables) > table_index:\n",
    "            table = tables[table_index]\n",
    "            html = \"<table>\"\n",
    "            for row in table:\n",
    "                html += \"<tr>\"\n",
    "                for cell in row:\n",
    "                    html += \"<td>\" + str(cell) + \"</td>\"\n",
    "                html += \"</tr>\"\n",
    "            html += \"</table>\"\n",
    "            return html\n",
    "        else:\n",
    "            return \"No table found at index {} on page {}\".format(table_index, page_number)\n",
    "\n",
    "\n",
    "html_table = extract_table_to_html(pdf_path, page_number=-1)\n",
    "print(html_table)"
   ]
  },
  {
   "cell_type": "markdown",
   "id": "3d593410",
   "metadata": {},
   "source": [
    "# 4. Tika"
   ]
  },
  {
   "cell_type": "markdown",
   "id": "4e81a5cf",
   "metadata": {},
   "source": [
    "### Ignore"
   ]
  },
  {
   "cell_type": "code",
   "execution_count": null,
   "id": "347f3423",
   "metadata": {},
   "outputs": [],
   "source": [
    "# !pip install tika"
   ]
  },
  {
   "cell_type": "code",
   "execution_count": null,
   "id": "2c4c7057",
   "metadata": {},
   "outputs": [],
   "source": [
    "from tika import parser"
   ]
  },
  {
   "cell_type": "code",
   "execution_count": null,
   "id": "5f87e792",
   "metadata": {
    "scrolled": true
   },
   "outputs": [],
   "source": [
    "raw = parser.from_file(pdf_path)\n",
    "print(raw['content'])"
   ]
  },
  {
   "cell_type": "code",
   "execution_count": null,
   "id": "c23971af",
   "metadata": {},
   "outputs": [],
   "source": []
  }
 ],
 "metadata": {
  "kernelspec": {
   "display_name": "Python 3 (ipykernel)",
   "language": "python",
   "name": "python3"
  },
  "language_info": {
   "codemirror_mode": {
    "name": "ipython",
    "version": 3
   },
   "file_extension": ".py",
   "mimetype": "text/x-python",
   "name": "python",
   "nbconvert_exporter": "python",
   "pygments_lexer": "ipython3",
   "version": "3.12.1"
  }
 },
 "nbformat": 4,
 "nbformat_minor": 5
}
