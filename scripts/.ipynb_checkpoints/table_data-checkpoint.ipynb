{
 "cells": [
  {
   "cell_type": "code",
   "execution_count": null,
   "id": "1623aeef-b686-425e-82d2-9b8f676b1a0d",
   "metadata": {
    "scrolled": true
   },
   "outputs": [],
   "source": [
    "from src.dataloader import DataLoader\n",
    "from utils.utils import flatten_list, write_list_to_file, read_list_from_file, preprocess_text\n",
    "from bs4 import BeautifulSoup\n",
    "from src.faiss.flat_idx import FlatIdx\n",
    "from src.encoder.tf_idf import Encoder\n",
    "from src.post_processing import idk\n",
    "import pandas as pd\n",
    "from src.eval import Eval\n",
    "import numpy as np\n",
    "from fuzzywuzzy import fuzz\n",
    "import json"
   ]
  },
  {
   "cell_type": "markdown",
   "id": "c0cb578b-3063-4c68-ae0c-a80c5a5750d4",
   "metadata": {},
   "source": [
    "## read all the table data"
   ]
  },
  {
   "cell_type": "code",
   "execution_count": null,
   "id": "cc425aab-6bc0-4637-81e5-77a6ea1c881a",
   "metadata": {},
   "outputs": [],
   "source": [
    "def html_parser(html_content):\n",
    "    soup = BeautifulSoup(html_content, \"html.parser\")\n",
    "    text = soup.get_text(separator=\" \", strip=True)\n",
    "    return(text)"
   ]
  },
  {
   "cell_type": "code",
   "execution_count": null,
   "id": "d9aa5a68-f1ab-4c23-b503-ba34b1f610f2",
   "metadata": {},
   "outputs": [],
   "source": [
    "directory_path = r'C:\\Users\\J C SINGLA\\Downloads\\External - take_home_challenge_(withJSONs)\\take_home_challenge_(withJSONs)\\raw_text'\n",
    "loader = DataLoader(directory_path, \"\")"
   ]
  },
  {
   "cell_type": "code",
   "execution_count": null,
   "id": "237379ec-580d-4bd4-a20f-423ae88ece81",
   "metadata": {},
   "outputs": [],
   "source": [
    "all_data, filenames = loader.read_json_from_folders()"
   ]
  },
  {
   "cell_type": "code",
   "execution_count": null,
   "id": "1173cf4a-74a0-46a2-af8c-7bada35faecf",
   "metadata": {},
   "outputs": [],
   "source": [
    "all_tables = [(k,v) for (k,v) in zip(all_data, filenames) if \"<table>\" in k]"
   ]
  },
  {
   "cell_type": "markdown",
   "id": "f5177bb0-7044-483e-b553-4aa14eff706f",
   "metadata": {},
   "source": [
    "## merge with other data"
   ]
  },
  {
   "cell_type": "code",
   "execution_count": null,
   "id": "379ce6be-deac-43b5-85c2-3f6fed2a9337",
   "metadata": {},
   "outputs": [],
   "source": [
    "save_path = r\"C:\\Users\\J C SINGLA\\Downloads\\External - take_home_challenge_(withJSONs)\\take_home_challenge_(withJSONs)\\data\""
   ]
  },
  {
   "cell_type": "code",
   "execution_count": null,
   "id": "ad3b3be3-1878-4fdf-a0b1-7feb0c903303",
   "metadata": {},
   "outputs": [],
   "source": [
    "all_data_sherpa = read_list_from_file(save_path, \"sherpa_paras\")\n",
    "filenames_sherpa = read_list_from_file(save_path, \"sherpa_paras_filenames\")\n",
    "assert (len(all_data_sherpa)==len(filenames_sherpa))"
   ]
  },
  {
   "cell_type": "code",
   "execution_count": null,
   "id": "02fd4722-48a3-4f9d-b072-ee97589af77f",
   "metadata": {},
   "outputs": [],
   "source": [
    "filenames_tables = [i[1] for i in all_tables]\n",
    "all_tables = [html_parser(i[0]) for i in all_tables]\n",
    "assert(len(filenames_tables)==len(all_tables))"
   ]
  },
  {
   "cell_type": "code",
   "execution_count": null,
   "id": "2417ed75-c4bd-4e06-8031-248c6456efd4",
   "metadata": {},
   "outputs": [],
   "source": [
    "all_data_sherpa = all_tables + all_data_sherpa\n",
    "filenames_sherpa = filenames_tables + filenames_sherpa"
   ]
  },
  {
   "cell_type": "code",
   "execution_count": null,
   "id": "f65d5e96-8d19-4cd3-88f7-7df2b8cec094",
   "metadata": {},
   "outputs": [],
   "source": [
    "assert (len(all_data_sherpa)==len(filenames_sherpa))\n",
    "print (len(all_data_sherpa))"
   ]
  },
  {
   "cell_type": "code",
   "execution_count": null,
   "id": "14a2be2c-776e-40cd-a5f5-2c44c23715c2",
   "metadata": {},
   "outputs": [],
   "source": [
    "ground_truth_path = r\"C:\\Users\\J C SINGLA\\Downloads\\External - take_home_challenge_(withJSONs)\\take_home_challenge_(withJSONs)\\document_questions.xlsx\"\n",
    "ground_truth = pd.read_excel(ground_truth_path)\n",
    "ground_truth_text = ground_truth[ground_truth[\"complexity\"].isin([\"table\", \"text\",\"no raw_text\"])].copy()  \n",
    "test_data = list(ground_truth_text[\"relevant questions\"])\n",
    "test_labels = list(ground_truth_text[\"answer\"])"
   ]
  },
  {
   "cell_type": "code",
   "execution_count": null,
   "id": "1d54c9c8-c507-474f-b281-ec34a949fe0a",
   "metadata": {},
   "outputs": [],
   "source": [
    "documents = list(ground_truth[\"document\"])"
   ]
  },
  {
   "cell_type": "code",
   "execution_count": null,
   "id": "5e67eb7d-29ac-40a6-899f-8cc818730b1b",
   "metadata": {},
   "outputs": [],
   "source": [
    "complexity = list(ground_truth[\"complexity\"])"
   ]
  }
 ],
 "metadata": {
  "kernelspec": {
   "display_name": "Python 3 (ipykernel)",
   "language": "python",
   "name": "python3"
  },
  "language_info": {
   "codemirror_mode": {
    "name": "ipython",
    "version": 3
   },
   "file_extension": ".py",
   "mimetype": "text/x-python",
   "name": "python",
   "nbconvert_exporter": "python",
   "pygments_lexer": "ipython3",
   "version": "3.12.1"
  }
 },
 "nbformat": 4,
 "nbformat_minor": 5
}
