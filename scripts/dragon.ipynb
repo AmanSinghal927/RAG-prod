{
 "cells": [
  {
   "cell_type": "code",
   "execution_count": null,
   "id": "f07157f0-4abc-4d52-93d0-d970fdd13891",
   "metadata": {},
   "outputs": [],
   "source": [
    "import pandas as pd\n",
    "import json \n",
    "import glob\n",
    "import faiss\n",
    "from fuzzywuzzy import fuzz\n",
    "from llmsherpa.readers import LayoutPDFReader\n",
    "import matplotlib.pyplot as plt\n",
    "import numpy as np\n",
    "import os\n",
    "import datetime\n",
    "import torch\n",
    "from transformers import AutoTokenizer, AutoModel"
   ]
  },
  {
   "cell_type": "code",
   "execution_count": null,
   "id": "fdd0d028-5bb8-4005-985b-0cc2f2420a03",
   "metadata": {},
   "outputs": [],
   "source": [
    "import tqdm"
   ]
  },
  {
   "cell_type": "code",
   "execution_count": null,
   "id": "60b824d7-348a-4b82-afe2-a4644a74856d",
   "metadata": {},
   "outputs": [],
   "source": [
    "from src.rechunker import Rechunker\n",
    "from src.encoder.sentence_transformer import Encoder\n",
    "from src.faiss.flat_idx import FlatIdx\n",
    "from utils.utils import flatten_list, write_list_to_file, read_list_from_file\n",
    "from src.eval import Eval\n"
   ]
  },
  {
   "cell_type": "markdown",
   "id": "ce2ff93c-1052-426a-a382-a395112be334",
   "metadata": {},
   "source": [
    "## Data"
   ]
  },
  {
   "cell_type": "code",
   "execution_count": null,
   "id": "4bd05638-8b74-4f2c-beef-eabca0b58313",
   "metadata": {},
   "outputs": [],
   "source": [
    "save_path = r\"C:\\Users\\J C SINGLA\\Downloads\\External - take_home_challenge_(withJSONs)\\take_home_challenge_(withJSONs)\\data\""
   ]
  },
  {
   "cell_type": "code",
   "execution_count": null,
   "id": "200365ac-6973-4c43-8370-76170d8caa5e",
   "metadata": {},
   "outputs": [],
   "source": [
    "all_data_sherpa = read_list_from_file(save_path, \"sherpa_paras_and_tables\")\n",
    "filenames_sherpa = read_list_from_file(save_path, \"sherpa_paras_and_tables_filenames\")\n",
    "assert (len(all_data_sherpa)==len(filenames_sherpa))"
   ]
  },
  {
   "cell_type": "code",
   "execution_count": null,
   "id": "267b0247-1a9f-43ef-9a38-deb3246b7740",
   "metadata": {},
   "outputs": [],
   "source": [
    "ground_truth_path = r\"C:\\Users\\J C SINGLA\\Downloads\\External - take_home_challenge_(withJSONs)\\take_home_challenge_(withJSONs)\\document_questions.xlsx\"\n",
    "ground_truth = pd.read_excel(ground_truth_path)\n",
    "ground_truth_text = ground_truth\n",
    "test_data = list(ground_truth_text[\"relevant questions\"])\n",
    "test_labels = list(ground_truth_text[\"answer\"])"
   ]
  },
  {
   "cell_type": "code",
   "execution_count": null,
   "id": "e515cabe-a9dc-4594-93d4-69b3f49c868d",
   "metadata": {},
   "outputs": [],
   "source": [
    "len(test_labels), len(all_data_sherpa)"
   ]
  },
  {
   "cell_type": "markdown",
   "id": "02411fe2-5d20-4384-b153-ed8c625a9743",
   "metadata": {},
   "source": [
    "## Model"
   ]
  },
  {
   "cell_type": "code",
   "execution_count": null,
   "id": "330974fd-0a35-4c69-8996-9d1bc581456a",
   "metadata": {},
   "outputs": [],
   "source": [
    "def normalize_vectors(vectors):\n",
    "    \"\"\"Normalize vectors to unit length.\"\"\"\n",
    "    norm = np.linalg.norm(vectors, axis=1, keepdims=True)\n",
    "    return vectors / np.where(norm == 0, 1, norm)"
   ]
  },
  {
   "cell_type": "code",
   "execution_count": null,
   "id": "efae82d9-7036-4cb5-a9a8-62c5e5f6a35b",
   "metadata": {},
   "outputs": [],
   "source": [
    "tokenizer = AutoTokenizer.from_pretrained('facebook/dragon-plus-query-encoder')\n",
    "query_encoder = AutoModel.from_pretrained('facebook/dragon-plus-query-encoder')\n",
    "context_encoder = AutoModel.from_pretrained('facebook/dragon-plus-context-encoder')"
   ]
  },
  {
   "cell_type": "code",
   "execution_count": null,
   "id": "429c0bfa-b3ac-45ef-a481-014b250ed93b",
   "metadata": {},
   "outputs": [],
   "source": [
    "query =  test_data\n",
    "contexts = all_data_sherpa"
   ]
  },
  {
   "cell_type": "code",
   "execution_count": null,
   "id": "d12636c7-eddf-4a9e-9dee-db80424e2ca7",
   "metadata": {
    "scrolled": true
   },
   "outputs": [],
   "source": [
    "ctx_emb = torch.empty((0, 768))\n",
    "for i in tqdm.tqdm(range(len(all_data_sherpa))):\n",
    "    ctx_input = tokenizer(contexts[i:i+1], padding=True, truncation=True, return_tensors='pt', max_length = 512)\n",
    "    temp_emb = context_encoder(**ctx_input).last_hidden_state[:, 0, :]\n",
    "    ctx_emb = torch.cat((ctx_emb, temp_emb), dim=0)"
   ]
  },
  {
   "cell_type": "code",
   "execution_count": null,
   "id": "7b2ff31f-2f75-42e3-ba83-c244c9d838fe",
   "metadata": {},
   "outputs": [],
   "source": [
    "ctx_emb_ = normalize_vectors(ctx_emb.detach().numpy())"
   ]
  },
  {
   "cell_type": "code",
   "execution_count": null,
   "id": "e0dba7b8-cc4c-4ded-bf83-277eafeacbc3",
   "metadata": {},
   "outputs": [],
   "source": [
    "save_path = r\"C:\\Users\\J C SINGLA\\Downloads\\External - take_home_challenge_(withJSONs)\\take_home_challenge_(withJSONs)\\data\\tensors\\dragon_paras_norm.pt\"\n",
    "torch.save(ctx_emb_, save_path)"
   ]
  },
  {
   "cell_type": "code",
   "execution_count": null,
   "id": "d1740b54-78a7-4067-bd78-6c005ab011d2",
   "metadata": {},
   "outputs": [],
   "source": []
  },
  {
   "cell_type": "markdown",
   "id": "80b3e283-1cd1-404f-8d48-e1775a308827",
   "metadata": {},
   "source": [
    "QUERY VECTORS"
   ]
  },
  {
   "cell_type": "code",
   "execution_count": null,
   "id": "49869ff3-8426-460e-80ef-b888960c5413",
   "metadata": {},
   "outputs": [],
   "source": [
    "xq = torch.empty((0, 768))\n",
    "for i in tqdm.tqdm(range(len(test_data))):\n",
    "    q_input = tokenizer(test_data[i:i+1], padding=True, truncation=True, return_tensors='pt', max_length = 512)\n",
    "    temp_emb = context_encoder(**q_input).last_hidden_state[:, 0, :]\n",
    "    xq = torch.cat((xq, temp_emb), dim=0)"
   ]
  },
  {
   "cell_type": "code",
   "execution_count": null,
   "id": "074e3603-a0ca-49f7-85f3-3b1187534cbd",
   "metadata": {},
   "outputs": [],
   "source": [
    "xq_ = normalize_vectors(xq.detach().numpy())"
   ]
  },
  {
   "cell_type": "code",
   "execution_count": null,
   "id": "f87f49a7-ad0e-4a9f-ba78-397284a2a5ed",
   "metadata": {},
   "outputs": [],
   "source": [
    "index = faiss.IndexFlatL2(ctx_emb.shape[1])"
   ]
  },
  {
   "cell_type": "code",
   "execution_count": null,
   "id": "3b84526b-f162-488f-84a5-f8701e3aff9f",
   "metadata": {},
   "outputs": [],
   "source": [
    "index.add(ctx_emb_)"
   ]
  },
  {
   "cell_type": "markdown",
   "id": "bfc77dd3-e647-461b-bc32-ea7c9a977237",
   "metadata": {},
   "source": [
    "## Search"
   ]
  },
  {
   "cell_type": "code",
   "execution_count": null,
   "id": "ee2c340a-fad0-44b9-84cb-43da118fac5f",
   "metadata": {},
   "outputs": [],
   "source": [
    "k = 10\n",
    "distances, indices = index.search(xq_, k)"
   ]
  },
  {
   "cell_type": "code",
   "execution_count": null,
   "id": "71ffc75b-3385-4801-a08d-9e68a8ec840a",
   "metadata": {},
   "outputs": [],
   "source": [
    "ret_context = []\n",
    "for i in range(len(test_data)):\n",
    "    retrieved_items = [contexts[i] for i in list(indices[i])]\n",
    "    ret_context.append(retrieved_items)"
   ]
  },
  {
   "cell_type": "code",
   "execution_count": null,
   "id": "57df47cc-1da8-4d22-b3fd-a4d4131ead94",
   "metadata": {},
   "outputs": [],
   "source": [
    "metric = Eval(k=10)\n",
    "recall, incorrect, correct = metric.recall_k(test_labels, ret_context)"
   ]
  },
  {
   "cell_type": "code",
   "execution_count": null,
   "id": "efa3219e-472c-409c-8eb9-f72b372e7993",
   "metadata": {},
   "outputs": [],
   "source": [
    "print (\"Recall is \", recall)\n",
    "print (\"MRR is \", metric.mean_reciprocal_rank(ret_context, test_labels))"
   ]
  },
  {
   "cell_type": "code",
   "execution_count": null,
   "id": "75580952-becf-4f10-a0c2-bd9707b2838e",
   "metadata": {
    "scrolled": true
   },
   "outputs": [],
   "source": [
    "incorrect[3]"
   ]
  },
  {
   "cell_type": "code",
   "execution_count": null,
   "id": "2d2cb2c7-6f91-4261-a34d-bb2e0931eac6",
   "metadata": {},
   "outputs": [],
   "source": [
    "test_data[3]"
   ]
  },
  {
   "cell_type": "code",
   "execution_count": null,
   "id": "bdbe7597-fa9d-4e5a-b82d-d716d35f53a3",
   "metadata": {},
   "outputs": [],
   "source": []
  }
 ],
 "metadata": {
  "kernelspec": {
   "display_name": "Python 3 (ipykernel)",
   "language": "python",
   "name": "python3"
  },
  "language_info": {
   "codemirror_mode": {
    "name": "ipython",
    "version": 3
   },
   "file_extension": ".py",
   "mimetype": "text/x-python",
   "name": "python",
   "nbconvert_exporter": "python",
   "pygments_lexer": "ipython3",
   "version": "3.12.1"
  }
 },
 "nbformat": 4,
 "nbformat_minor": 5
}
